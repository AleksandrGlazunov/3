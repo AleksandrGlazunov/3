{
 "cells": [
  {
   "cell_type": "markdown",
   "id": "448993b8-d78b-42aa-b44f-a32456525934",
   "metadata": {},
   "source": [
    "# Исследование надежности заемщиков"
   ]
  },
  {
   "cell_type": "markdown",
   "id": "d7c3abea-2a50-4baf-be4c-ec198cdb056a",
   "metadata": {},
   "source": [
    "## Оглавление:\n",
    "* [Изучение общей информации о данных](#и_о)\n",
    "* [Предобработка данных](#п_д)\n",
    "    *  [Предобработка по столбцам](#п_п)\n",
    "    *  [Удаление дубликатов](#у_д)\n",
    "    *  [Замена типов данных](#з_т)\n",
    "    *  [Категоризация данных](#к_д)\n",
    "* [Исследование данных](#и_д)\n",
    "    * [Есть ли зависимость между количеством детей и возвратом кредита в срок?](#к_де)\n",
    "    * [Есть ли зависимость между семейным положением и возвратом кредита в срок?](#с_п)\n",
    "    * [Есть ли зависимость между уровнем дохода и возвратом кредита в срок?](#у_до)\n",
    "    * [Как разные цели кредита влияют на его возврат в срок?](#ц_к)\n",
    "* [Общий вывод ](#о_в)"
   ]
  },
  {
   "cell_type": "markdown",
   "id": "4a2f1030-1fda-42e1-aa44-88c4a53a3b5a",
   "metadata": {},
   "source": [
    "## Изучение общей информации о данных <a class=\"anchor\" id=\"и_о\"></a>"
   ]
  },
  {
   "cell_type": "markdown",
   "id": "6db6230f-2431-44fd-8052-3561ffda9d4d",
   "metadata": {},
   "source": [
    "Подключим нужные библиотеки и выведем общую информацию о данных."
   ]
  },
  {
   "cell_type": "code",
   "execution_count": 1,
   "id": "0ef4c5c4-b8b0-4da9-b4d4-6e5483ed36a4",
   "metadata": {},
   "outputs": [],
   "source": [
    "import pandas as pd"
   ]
  },
  {
   "cell_type": "code",
   "execution_count": 2,
   "id": "797a525a-c969-4845-ada9-f2454bb204a3",
   "metadata": {},
   "outputs": [
    {
     "data": {
      "text/html": [
       "<div>\n",
       "<style scoped>\n",
       "    .dataframe tbody tr th:only-of-type {\n",
       "        vertical-align: middle;\n",
       "    }\n",
       "\n",
       "    .dataframe tbody tr th {\n",
       "        vertical-align: top;\n",
       "    }\n",
       "\n",
       "    .dataframe thead th {\n",
       "        text-align: right;\n",
       "    }\n",
       "</style>\n",
       "<table border=\"1\" class=\"dataframe\">\n",
       "  <thead>\n",
       "    <tr style=\"text-align: right;\">\n",
       "      <th></th>\n",
       "      <th>children</th>\n",
       "      <th>days_employed</th>\n",
       "      <th>dob_years</th>\n",
       "      <th>education</th>\n",
       "      <th>education_id</th>\n",
       "      <th>family_status</th>\n",
       "      <th>family_status_id</th>\n",
       "      <th>gender</th>\n",
       "      <th>income_type</th>\n",
       "      <th>debt</th>\n",
       "      <th>total_income</th>\n",
       "      <th>purpose</th>\n",
       "    </tr>\n",
       "  </thead>\n",
       "  <tbody>\n",
       "    <tr>\n",
       "      <th>0</th>\n",
       "      <td>1</td>\n",
       "      <td>-8437.673028</td>\n",
       "      <td>42</td>\n",
       "      <td>высшее</td>\n",
       "      <td>0</td>\n",
       "      <td>женат / замужем</td>\n",
       "      <td>0</td>\n",
       "      <td>F</td>\n",
       "      <td>сотрудник</td>\n",
       "      <td>0</td>\n",
       "      <td>253875.639453</td>\n",
       "      <td>покупка жилья</td>\n",
       "    </tr>\n",
       "    <tr>\n",
       "      <th>1</th>\n",
       "      <td>1</td>\n",
       "      <td>-4024.803754</td>\n",
       "      <td>36</td>\n",
       "      <td>среднее</td>\n",
       "      <td>1</td>\n",
       "      <td>женат / замужем</td>\n",
       "      <td>0</td>\n",
       "      <td>F</td>\n",
       "      <td>сотрудник</td>\n",
       "      <td>0</td>\n",
       "      <td>112080.014102</td>\n",
       "      <td>приобретение автомобиля</td>\n",
       "    </tr>\n",
       "    <tr>\n",
       "      <th>2</th>\n",
       "      <td>0</td>\n",
       "      <td>-5623.422610</td>\n",
       "      <td>33</td>\n",
       "      <td>Среднее</td>\n",
       "      <td>1</td>\n",
       "      <td>женат / замужем</td>\n",
       "      <td>0</td>\n",
       "      <td>M</td>\n",
       "      <td>сотрудник</td>\n",
       "      <td>0</td>\n",
       "      <td>145885.952297</td>\n",
       "      <td>покупка жилья</td>\n",
       "    </tr>\n",
       "    <tr>\n",
       "      <th>3</th>\n",
       "      <td>3</td>\n",
       "      <td>-4124.747207</td>\n",
       "      <td>32</td>\n",
       "      <td>среднее</td>\n",
       "      <td>1</td>\n",
       "      <td>женат / замужем</td>\n",
       "      <td>0</td>\n",
       "      <td>M</td>\n",
       "      <td>сотрудник</td>\n",
       "      <td>0</td>\n",
       "      <td>267628.550329</td>\n",
       "      <td>дополнительное образование</td>\n",
       "    </tr>\n",
       "    <tr>\n",
       "      <th>4</th>\n",
       "      <td>0</td>\n",
       "      <td>340266.072047</td>\n",
       "      <td>53</td>\n",
       "      <td>среднее</td>\n",
       "      <td>1</td>\n",
       "      <td>гражданский брак</td>\n",
       "      <td>1</td>\n",
       "      <td>F</td>\n",
       "      <td>пенсионер</td>\n",
       "      <td>0</td>\n",
       "      <td>158616.077870</td>\n",
       "      <td>сыграть свадьбу</td>\n",
       "    </tr>\n",
       "    <tr>\n",
       "      <th>5</th>\n",
       "      <td>0</td>\n",
       "      <td>-926.185831</td>\n",
       "      <td>27</td>\n",
       "      <td>высшее</td>\n",
       "      <td>0</td>\n",
       "      <td>гражданский брак</td>\n",
       "      <td>1</td>\n",
       "      <td>M</td>\n",
       "      <td>компаньон</td>\n",
       "      <td>0</td>\n",
       "      <td>255763.565419</td>\n",
       "      <td>покупка жилья</td>\n",
       "    </tr>\n",
       "    <tr>\n",
       "      <th>6</th>\n",
       "      <td>0</td>\n",
       "      <td>-2879.202052</td>\n",
       "      <td>43</td>\n",
       "      <td>высшее</td>\n",
       "      <td>0</td>\n",
       "      <td>женат / замужем</td>\n",
       "      <td>0</td>\n",
       "      <td>F</td>\n",
       "      <td>компаньон</td>\n",
       "      <td>0</td>\n",
       "      <td>240525.971920</td>\n",
       "      <td>операции с жильем</td>\n",
       "    </tr>\n",
       "    <tr>\n",
       "      <th>7</th>\n",
       "      <td>0</td>\n",
       "      <td>-152.779569</td>\n",
       "      <td>50</td>\n",
       "      <td>СРЕДНЕЕ</td>\n",
       "      <td>1</td>\n",
       "      <td>женат / замужем</td>\n",
       "      <td>0</td>\n",
       "      <td>M</td>\n",
       "      <td>сотрудник</td>\n",
       "      <td>0</td>\n",
       "      <td>135823.934197</td>\n",
       "      <td>образование</td>\n",
       "    </tr>\n",
       "    <tr>\n",
       "      <th>8</th>\n",
       "      <td>2</td>\n",
       "      <td>-6929.865299</td>\n",
       "      <td>35</td>\n",
       "      <td>ВЫСШЕЕ</td>\n",
       "      <td>0</td>\n",
       "      <td>гражданский брак</td>\n",
       "      <td>1</td>\n",
       "      <td>F</td>\n",
       "      <td>сотрудник</td>\n",
       "      <td>0</td>\n",
       "      <td>95856.832424</td>\n",
       "      <td>на проведение свадьбы</td>\n",
       "    </tr>\n",
       "    <tr>\n",
       "      <th>9</th>\n",
       "      <td>0</td>\n",
       "      <td>-2188.756445</td>\n",
       "      <td>41</td>\n",
       "      <td>среднее</td>\n",
       "      <td>1</td>\n",
       "      <td>женат / замужем</td>\n",
       "      <td>0</td>\n",
       "      <td>M</td>\n",
       "      <td>сотрудник</td>\n",
       "      <td>0</td>\n",
       "      <td>144425.938277</td>\n",
       "      <td>покупка жилья для семьи</td>\n",
       "    </tr>\n",
       "  </tbody>\n",
       "</table>\n",
       "</div>"
      ],
      "text/plain": [
       "   children  days_employed  dob_years education  education_id  \\\n",
       "0         1   -8437.673028         42    высшее             0   \n",
       "1         1   -4024.803754         36   среднее             1   \n",
       "2         0   -5623.422610         33   Среднее             1   \n",
       "3         3   -4124.747207         32   среднее             1   \n",
       "4         0  340266.072047         53   среднее             1   \n",
       "5         0    -926.185831         27    высшее             0   \n",
       "6         0   -2879.202052         43    высшее             0   \n",
       "7         0    -152.779569         50   СРЕДНЕЕ             1   \n",
       "8         2   -6929.865299         35    ВЫСШЕЕ             0   \n",
       "9         0   -2188.756445         41   среднее             1   \n",
       "\n",
       "      family_status  family_status_id gender income_type  debt   total_income  \\\n",
       "0   женат / замужем                 0      F   сотрудник     0  253875.639453   \n",
       "1   женат / замужем                 0      F   сотрудник     0  112080.014102   \n",
       "2   женат / замужем                 0      M   сотрудник     0  145885.952297   \n",
       "3   женат / замужем                 0      M   сотрудник     0  267628.550329   \n",
       "4  гражданский брак                 1      F   пенсионер     0  158616.077870   \n",
       "5  гражданский брак                 1      M   компаньон     0  255763.565419   \n",
       "6   женат / замужем                 0      F   компаньон     0  240525.971920   \n",
       "7   женат / замужем                 0      M   сотрудник     0  135823.934197   \n",
       "8  гражданский брак                 1      F   сотрудник     0   95856.832424   \n",
       "9   женат / замужем                 0      M   сотрудник     0  144425.938277   \n",
       "\n",
       "                      purpose  \n",
       "0               покупка жилья  \n",
       "1     приобретение автомобиля  \n",
       "2               покупка жилья  \n",
       "3  дополнительное образование  \n",
       "4             сыграть свадьбу  \n",
       "5               покупка жилья  \n",
       "6           операции с жильем  \n",
       "7                 образование  \n",
       "8       на проведение свадьбы  \n",
       "9     покупка жилья для семьи  "
      ]
     },
     "execution_count": 2,
     "metadata": {},
     "output_type": "execute_result"
    }
   ],
   "source": [
    "data = pd.read_csv('datasets/data.csv')\n",
    "data.head(10)"
   ]
  },
  {
   "cell_type": "code",
   "execution_count": 3,
   "id": "bc9b1e02-5caf-4006-ad8a-5b2ed254ba61",
   "metadata": {},
   "outputs": [
    {
     "name": "stdout",
     "output_type": "stream",
     "text": [
      "<class 'pandas.core.frame.DataFrame'>\n",
      "RangeIndex: 21525 entries, 0 to 21524\n",
      "Data columns (total 12 columns):\n",
      " #   Column            Non-Null Count  Dtype  \n",
      "---  ------            --------------  -----  \n",
      " 0   children          21525 non-null  int64  \n",
      " 1   days_employed     19351 non-null  float64\n",
      " 2   dob_years         21525 non-null  int64  \n",
      " 3   education         21525 non-null  object \n",
      " 4   education_id      21525 non-null  int64  \n",
      " 5   family_status     21525 non-null  object \n",
      " 6   family_status_id  21525 non-null  int64  \n",
      " 7   gender            21525 non-null  object \n",
      " 8   income_type       21525 non-null  object \n",
      " 9   debt              21525 non-null  int64  \n",
      " 10  total_income      19351 non-null  float64\n",
      " 11  purpose           21525 non-null  object \n",
      "dtypes: float64(2), int64(5), object(5)\n",
      "memory usage: 2.0+ MB\n"
     ]
    }
   ],
   "source": [
    "data.info()"
   ]
  },
  {
   "cell_type": "code",
   "execution_count": 4,
   "id": "23ed567b-4040-440b-9ec3-df5ba522751b",
   "metadata": {
    "scrolled": true
   },
   "outputs": [
    {
     "data": {
      "text/html": [
       "<div>\n",
       "<style scoped>\n",
       "    .dataframe tbody tr th:only-of-type {\n",
       "        vertical-align: middle;\n",
       "    }\n",
       "\n",
       "    .dataframe tbody tr th {\n",
       "        vertical-align: top;\n",
       "    }\n",
       "\n",
       "    .dataframe thead th {\n",
       "        text-align: right;\n",
       "    }\n",
       "</style>\n",
       "<table border=\"1\" class=\"dataframe\">\n",
       "  <thead>\n",
       "    <tr style=\"text-align: right;\">\n",
       "      <th></th>\n",
       "      <th>children</th>\n",
       "      <th>days_employed</th>\n",
       "      <th>dob_years</th>\n",
       "      <th>education_id</th>\n",
       "      <th>family_status_id</th>\n",
       "      <th>debt</th>\n",
       "      <th>total_income</th>\n",
       "    </tr>\n",
       "  </thead>\n",
       "  <tbody>\n",
       "    <tr>\n",
       "      <th>count</th>\n",
       "      <td>21525.000000</td>\n",
       "      <td>19351.000000</td>\n",
       "      <td>21525.000000</td>\n",
       "      <td>21525.000000</td>\n",
       "      <td>21525.000000</td>\n",
       "      <td>21525.000000</td>\n",
       "      <td>1.935100e+04</td>\n",
       "    </tr>\n",
       "    <tr>\n",
       "      <th>mean</th>\n",
       "      <td>0.538908</td>\n",
       "      <td>63046.497661</td>\n",
       "      <td>43.293380</td>\n",
       "      <td>0.817236</td>\n",
       "      <td>0.972544</td>\n",
       "      <td>0.080883</td>\n",
       "      <td>1.674223e+05</td>\n",
       "    </tr>\n",
       "    <tr>\n",
       "      <th>std</th>\n",
       "      <td>1.381587</td>\n",
       "      <td>140827.311974</td>\n",
       "      <td>12.574584</td>\n",
       "      <td>0.548138</td>\n",
       "      <td>1.420324</td>\n",
       "      <td>0.272661</td>\n",
       "      <td>1.029716e+05</td>\n",
       "    </tr>\n",
       "    <tr>\n",
       "      <th>min</th>\n",
       "      <td>-1.000000</td>\n",
       "      <td>-18388.949901</td>\n",
       "      <td>0.000000</td>\n",
       "      <td>0.000000</td>\n",
       "      <td>0.000000</td>\n",
       "      <td>0.000000</td>\n",
       "      <td>2.066726e+04</td>\n",
       "    </tr>\n",
       "    <tr>\n",
       "      <th>25%</th>\n",
       "      <td>0.000000</td>\n",
       "      <td>-2747.423625</td>\n",
       "      <td>33.000000</td>\n",
       "      <td>1.000000</td>\n",
       "      <td>0.000000</td>\n",
       "      <td>0.000000</td>\n",
       "      <td>1.030532e+05</td>\n",
       "    </tr>\n",
       "    <tr>\n",
       "      <th>50%</th>\n",
       "      <td>0.000000</td>\n",
       "      <td>-1203.369529</td>\n",
       "      <td>42.000000</td>\n",
       "      <td>1.000000</td>\n",
       "      <td>0.000000</td>\n",
       "      <td>0.000000</td>\n",
       "      <td>1.450179e+05</td>\n",
       "    </tr>\n",
       "    <tr>\n",
       "      <th>75%</th>\n",
       "      <td>1.000000</td>\n",
       "      <td>-291.095954</td>\n",
       "      <td>53.000000</td>\n",
       "      <td>1.000000</td>\n",
       "      <td>1.000000</td>\n",
       "      <td>0.000000</td>\n",
       "      <td>2.034351e+05</td>\n",
       "    </tr>\n",
       "    <tr>\n",
       "      <th>max</th>\n",
       "      <td>20.000000</td>\n",
       "      <td>401755.400475</td>\n",
       "      <td>75.000000</td>\n",
       "      <td>4.000000</td>\n",
       "      <td>4.000000</td>\n",
       "      <td>1.000000</td>\n",
       "      <td>2.265604e+06</td>\n",
       "    </tr>\n",
       "  </tbody>\n",
       "</table>\n",
       "</div>"
      ],
      "text/plain": [
       "           children  days_employed     dob_years  education_id  \\\n",
       "count  21525.000000   19351.000000  21525.000000  21525.000000   \n",
       "mean       0.538908   63046.497661     43.293380      0.817236   \n",
       "std        1.381587  140827.311974     12.574584      0.548138   \n",
       "min       -1.000000  -18388.949901      0.000000      0.000000   \n",
       "25%        0.000000   -2747.423625     33.000000      1.000000   \n",
       "50%        0.000000   -1203.369529     42.000000      1.000000   \n",
       "75%        1.000000    -291.095954     53.000000      1.000000   \n",
       "max       20.000000  401755.400475     75.000000      4.000000   \n",
       "\n",
       "       family_status_id          debt  total_income  \n",
       "count      21525.000000  21525.000000  1.935100e+04  \n",
       "mean           0.972544      0.080883  1.674223e+05  \n",
       "std            1.420324      0.272661  1.029716e+05  \n",
       "min            0.000000      0.000000  2.066726e+04  \n",
       "25%            0.000000      0.000000  1.030532e+05  \n",
       "50%            0.000000      0.000000  1.450179e+05  \n",
       "75%            1.000000      0.000000  2.034351e+05  \n",
       "max            4.000000      1.000000  2.265604e+06  "
      ]
     },
     "execution_count": 4,
     "metadata": {},
     "output_type": "execute_result"
    }
   ],
   "source": [
    "data.describe()"
   ]
  },
  {
   "cell_type": "markdown",
   "id": "6a51ca91-ee95-4f89-83b8-acc020e0c096",
   "metadata": {},
   "source": [
    "**Выводы**\n",
    "\n",
    "Почти в каждом столбце сразу видны недочёты, на которые необходимо обратить внимание и исправить. Рассмотрим каждый столбец:\n",
    "* `children` - минимальное значение `-1`, максимальное значение `20`, что похоже на ошибку. Нужно посмотреть на распределение данных;\n",
    "* `days_employed` - максимальное значение `401755`, что составляет `1100` ktn, что очевидно является ошибкой. Так же наблюдается большое количество отрицательных значений. Есть пропуски;\n",
    "* `dob_year` - минильный возраст равен `0`, что так же является ошибкой;\n",
    "* `education` - нужно проверить данный столбец на правильность написания категорий;\n",
    "* `education_id` - в этом столбце с данными всё в порядке. Нужно проверить соответствие `id` столбцу `education`;\n",
    "* `family_status` - нужно проверить данные;\n",
    "* `family_status_id` - Так же нужно проверить соответствие `id` столбцу `family_status`;\n",
    "* `gender` - проверить, сколько гендеров в данном столбце;\n",
    "* `income_type` - нужно проверить данный столбец на правильность написания категорий;\n",
    "* `debt` - наш целевой признак, следует проверить, чтобы он принимал значения только `0` и `1`.\n",
    "* `total_income` - со значениями всё в порядке, но есть пропуски. Так же для анализа удобно выделить несколько категорий по доходу;\n",
    "* `purpose` - видимо в этом столбце много уникальных значений, поэтому стоит выделить основные категории.\n",
    "\n",
    "Проведём предобработку по каждому столбцу, потом удалим дубликаты, затем скорректируем типы данных и уточним категории в `income_type` и `purpose`.\n",
    "\n",
    "Приступим к предобработке данных."
   ]
  },
  {
   "cell_type": "markdown",
   "id": "edb279fc-078e-4cb4-af28-66174a83d15a",
   "metadata": {},
   "source": [
    "## Предобработка данных <a class=\"anchor\" id=\"п_д\"></a>"
   ]
  },
  {
   "cell_type": "markdown",
   "id": "aafd3161-f7b8-48f8-9904-bad5d6b948fb",
   "metadata": {},
   "source": [
    "### Предобработка по столбцам <a class=\"anchor\" id=\"п_п\"></a>"
   ]
  },
  {
   "cell_type": "markdown",
   "id": "f68d8efc-cf8a-48e3-a605-ae1850cc9728",
   "metadata": {},
   "source": [
    "Начнём со столбца `children`."
   ]
  },
  {
   "cell_type": "code",
   "execution_count": 5,
   "id": "d1e4e85d-2392-4f61-b4b7-9d70b587022a",
   "metadata": {},
   "outputs": [
    {
     "data": {
      "text/plain": [
       "children\n",
       " 0     14149\n",
       " 1      4818\n",
       " 2      2055\n",
       " 3       330\n",
       " 20       76\n",
       "-1        47\n",
       " 4        41\n",
       " 5         9\n",
       "Name: count, dtype: int64"
      ]
     },
     "execution_count": 5,
     "metadata": {},
     "output_type": "execute_result"
    }
   ],
   "source": [
    "data.children.value_counts()"
   ]
  },
  {
   "cell_type": "markdown",
   "id": "53d9843d-6135-4631-87bb-4d26e068a2d4",
   "metadata": {},
   "source": [
    "Предположим, что `-1` - это ошибочное написание `1`, а `20` - это `2` и произведём соответствующие замены. "
   ]
  },
  {
   "cell_type": "code",
   "execution_count": 6,
   "id": "4ab2cb6c-334b-4495-94c0-5232521c4a89",
   "metadata": {},
   "outputs": [
    {
     "data": {
      "text/plain": [
       "children\n",
       "0    14149\n",
       "1     4865\n",
       "2     2131\n",
       "3      330\n",
       "4       41\n",
       "5        9\n",
       "Name: count, dtype: int64"
      ]
     },
     "execution_count": 6,
     "metadata": {},
     "output_type": "execute_result"
    }
   ],
   "source": [
    "data.children = data.children.apply(lambda x: 2 if x == 20 else (1 if x == -1 else x))\n",
    "data.children.value_counts()"
   ]
  },
  {
   "cell_type": "markdown",
   "id": "bb16e0ee-cf62-48a3-a52c-11fd4aa4208d",
   "metadata": {},
   "source": [
    "Теперь приступим к `days_employed` и `total_income`."
   ]
  },
  {
   "cell_type": "code",
   "execution_count": 7,
   "id": "f6715480-4a10-4d55-ae90-e90b404e67af",
   "metadata": {},
   "outputs": [
    {
     "data": {
      "text/html": [
       "<div>\n",
       "<style scoped>\n",
       "    .dataframe tbody tr th:only-of-type {\n",
       "        vertical-align: middle;\n",
       "    }\n",
       "\n",
       "    .dataframe tbody tr th {\n",
       "        vertical-align: top;\n",
       "    }\n",
       "\n",
       "    .dataframe thead tr th {\n",
       "        text-align: left;\n",
       "    }\n",
       "\n",
       "    .dataframe thead tr:last-of-type th {\n",
       "        text-align: right;\n",
       "    }\n",
       "</style>\n",
       "<table border=\"1\" class=\"dataframe\">\n",
       "  <thead>\n",
       "    <tr>\n",
       "      <th></th>\n",
       "      <th colspan=\"4\" halign=\"left\">days_employed</th>\n",
       "      <th colspan=\"4\" halign=\"left\">total_income</th>\n",
       "    </tr>\n",
       "    <tr>\n",
       "      <th></th>\n",
       "      <th>min</th>\n",
       "      <th>max</th>\n",
       "      <th>mean</th>\n",
       "      <th>count</th>\n",
       "      <th>min</th>\n",
       "      <th>max</th>\n",
       "      <th>mean</th>\n",
       "      <th>count</th>\n",
       "    </tr>\n",
       "    <tr>\n",
       "      <th>income_type</th>\n",
       "      <th></th>\n",
       "      <th></th>\n",
       "      <th></th>\n",
       "      <th></th>\n",
       "      <th></th>\n",
       "      <th></th>\n",
       "      <th></th>\n",
       "      <th></th>\n",
       "    </tr>\n",
       "  </thead>\n",
       "  <tbody>\n",
       "    <tr>\n",
       "      <th>безработный</th>\n",
       "      <td>337524.466835</td>\n",
       "      <td>395302.838654</td>\n",
       "      <td>366413.652744</td>\n",
       "      <td>2</td>\n",
       "      <td>59956.991984</td>\n",
       "      <td>2.027225e+05</td>\n",
       "      <td>131339.751676</td>\n",
       "      <td>2</td>\n",
       "    </tr>\n",
       "    <tr>\n",
       "      <th>в декрете</th>\n",
       "      <td>-3296.759962</td>\n",
       "      <td>-3296.759962</td>\n",
       "      <td>-3296.759962</td>\n",
       "      <td>1</td>\n",
       "      <td>53829.130729</td>\n",
       "      <td>5.382913e+04</td>\n",
       "      <td>53829.130729</td>\n",
       "      <td>1</td>\n",
       "    </tr>\n",
       "    <tr>\n",
       "      <th>госслужащий</th>\n",
       "      <td>-15193.032201</td>\n",
       "      <td>-39.954170</td>\n",
       "      <td>-3399.896902</td>\n",
       "      <td>1312</td>\n",
       "      <td>29200.077193</td>\n",
       "      <td>9.104515e+05</td>\n",
       "      <td>170898.309923</td>\n",
       "      <td>1312</td>\n",
       "    </tr>\n",
       "    <tr>\n",
       "      <th>компаньон</th>\n",
       "      <td>-17615.563266</td>\n",
       "      <td>-30.195337</td>\n",
       "      <td>-2111.524398</td>\n",
       "      <td>4577</td>\n",
       "      <td>28702.812889</td>\n",
       "      <td>2.265604e+06</td>\n",
       "      <td>202417.461462</td>\n",
       "      <td>4577</td>\n",
       "    </tr>\n",
       "    <tr>\n",
       "      <th>пенсионер</th>\n",
       "      <td>328728.720605</td>\n",
       "      <td>401755.400475</td>\n",
       "      <td>365003.491245</td>\n",
       "      <td>3443</td>\n",
       "      <td>20667.263793</td>\n",
       "      <td>7.351033e+05</td>\n",
       "      <td>137127.465690</td>\n",
       "      <td>3443</td>\n",
       "    </tr>\n",
       "    <tr>\n",
       "      <th>предприниматель</th>\n",
       "      <td>-520.848083</td>\n",
       "      <td>-520.848083</td>\n",
       "      <td>-520.848083</td>\n",
       "      <td>1</td>\n",
       "      <td>499163.144947</td>\n",
       "      <td>4.991631e+05</td>\n",
       "      <td>499163.144947</td>\n",
       "      <td>1</td>\n",
       "    </tr>\n",
       "    <tr>\n",
       "      <th>сотрудник</th>\n",
       "      <td>-18388.949901</td>\n",
       "      <td>-24.141633</td>\n",
       "      <td>-2326.499216</td>\n",
       "      <td>10014</td>\n",
       "      <td>21367.648356</td>\n",
       "      <td>1.726276e+06</td>\n",
       "      <td>161380.260488</td>\n",
       "      <td>10014</td>\n",
       "    </tr>\n",
       "    <tr>\n",
       "      <th>студент</th>\n",
       "      <td>-578.751554</td>\n",
       "      <td>-578.751554</td>\n",
       "      <td>-578.751554</td>\n",
       "      <td>1</td>\n",
       "      <td>98201.625314</td>\n",
       "      <td>9.820163e+04</td>\n",
       "      <td>98201.625314</td>\n",
       "      <td>1</td>\n",
       "    </tr>\n",
       "  </tbody>\n",
       "</table>\n",
       "</div>"
      ],
      "text/plain": [
       "                 days_employed                                       \\\n",
       "                           min            max           mean  count   \n",
       "income_type                                                           \n",
       "безработный      337524.466835  395302.838654  366413.652744      2   \n",
       "в декрете         -3296.759962   -3296.759962   -3296.759962      1   \n",
       "госслужащий      -15193.032201     -39.954170   -3399.896902   1312   \n",
       "компаньон        -17615.563266     -30.195337   -2111.524398   4577   \n",
       "пенсионер        328728.720605  401755.400475  365003.491245   3443   \n",
       "предприниматель    -520.848083    -520.848083    -520.848083      1   \n",
       "сотрудник        -18388.949901     -24.141633   -2326.499216  10014   \n",
       "студент            -578.751554    -578.751554    -578.751554      1   \n",
       "\n",
       "                  total_income                                      \n",
       "                           min           max           mean  count  \n",
       "income_type                                                         \n",
       "безработный       59956.991984  2.027225e+05  131339.751676      2  \n",
       "в декрете         53829.130729  5.382913e+04   53829.130729      1  \n",
       "госслужащий       29200.077193  9.104515e+05  170898.309923   1312  \n",
       "компаньон         28702.812889  2.265604e+06  202417.461462   4577  \n",
       "пенсионер         20667.263793  7.351033e+05  137127.465690   3443  \n",
       "предприниматель  499163.144947  4.991631e+05  499163.144947      1  \n",
       "сотрудник         21367.648356  1.726276e+06  161380.260488  10014  \n",
       "студент           98201.625314  9.820163e+04   98201.625314      1  "
      ]
     },
     "execution_count": 7,
     "metadata": {},
     "output_type": "execute_result"
    }
   ],
   "source": [
    "data.groupby('income_type')[['days_employed','total_income']].agg(['min', 'max', 'mean', 'count'])"
   ]
  },
  {
   "cell_type": "markdown",
   "id": "8026a6e4-13c3-400d-b38e-be8cb689daca",
   "metadata": {},
   "source": [
    "Все большие значения `days_employed` относятся к категориям `безработный` и `пенсионер`, причём среднее значение близко к `1000` годам. При записи клиентов без работы над данный момент программа добавила три порядка? Необходимо сообщить разработчикам базы данных. Однако в рамках данного проекта не проверяется связь `days_employed` и благонадёжности клиентов, поэтому просто уберём знак `-` у значений в этом столбце и заполним пропуски медианой. Значения в `total_income` выглядят логично, так же заполним пропуски медианой. Стоит отдельно выделить категории `безработный`, `в декрете`, `предприниматель` и `студент` из-за малого количества клиентов, представленных в этих категориях. Если бы нужно было проверить гипотезу о зависимости благонадёжности клиентов от `total_income`, то потребовалось больше данных об этих категориях. Отметим так же, что записи в столбце `income_type` корректны."
   ]
  },
  {
   "cell_type": "code",
   "execution_count": 8,
   "id": "a7906d67-8766-4082-a312-bfdb07493570",
   "metadata": {},
   "outputs": [],
   "source": [
    "data.days_employed = data.days_employed.abs()"
   ]
  },
  {
   "cell_type": "code",
   "execution_count": 9,
   "id": "feeddbd6-e271-42ce-8c7e-054601d262a7",
   "metadata": {},
   "outputs": [],
   "source": [
    "data.total_income = data.total_income.fillna(data.groupby('income_type')['total_income'].transform('median'))\n",
    "data.days_employed = data.days_employed.fillna(data.groupby('income_type')['days_employed'].transform('median'))"
   ]
  },
  {
   "cell_type": "markdown",
   "id": "c7b7b37e-921f-49de-9fa9-efabffb7f309",
   "metadata": {},
   "source": [
    "Посмотрим на нулевые значения в столбце `dob_years`."
   ]
  },
  {
   "cell_type": "code",
   "execution_count": 10,
   "id": "dae8703d-e70e-45c8-97b3-93ae3cf70ae1",
   "metadata": {},
   "outputs": [
    {
     "data": {
      "text/html": [
       "<div>\n",
       "<style scoped>\n",
       "    .dataframe tbody tr th:only-of-type {\n",
       "        vertical-align: middle;\n",
       "    }\n",
       "\n",
       "    .dataframe tbody tr th {\n",
       "        vertical-align: top;\n",
       "    }\n",
       "\n",
       "    .dataframe thead th {\n",
       "        text-align: right;\n",
       "    }\n",
       "</style>\n",
       "<table border=\"1\" class=\"dataframe\">\n",
       "  <thead>\n",
       "    <tr style=\"text-align: right;\">\n",
       "      <th></th>\n",
       "      <th>children</th>\n",
       "      <th>days_employed</th>\n",
       "      <th>dob_years</th>\n",
       "      <th>education</th>\n",
       "      <th>education_id</th>\n",
       "      <th>family_status</th>\n",
       "      <th>family_status_id</th>\n",
       "      <th>gender</th>\n",
       "      <th>income_type</th>\n",
       "      <th>debt</th>\n",
       "      <th>total_income</th>\n",
       "      <th>purpose</th>\n",
       "    </tr>\n",
       "  </thead>\n",
       "  <tbody>\n",
       "    <tr>\n",
       "      <th>99</th>\n",
       "      <td>0</td>\n",
       "      <td>346541.618895</td>\n",
       "      <td>0</td>\n",
       "      <td>Среднее</td>\n",
       "      <td>1</td>\n",
       "      <td>женат / замужем</td>\n",
       "      <td>0</td>\n",
       "      <td>F</td>\n",
       "      <td>пенсионер</td>\n",
       "      <td>0</td>\n",
       "      <td>71291.522491</td>\n",
       "      <td>автомобиль</td>\n",
       "    </tr>\n",
       "    <tr>\n",
       "      <th>149</th>\n",
       "      <td>0</td>\n",
       "      <td>2664.273168</td>\n",
       "      <td>0</td>\n",
       "      <td>среднее</td>\n",
       "      <td>1</td>\n",
       "      <td>в разводе</td>\n",
       "      <td>3</td>\n",
       "      <td>F</td>\n",
       "      <td>сотрудник</td>\n",
       "      <td>0</td>\n",
       "      <td>70176.435951</td>\n",
       "      <td>операции с жильем</td>\n",
       "    </tr>\n",
       "    <tr>\n",
       "      <th>270</th>\n",
       "      <td>3</td>\n",
       "      <td>1872.663186</td>\n",
       "      <td>0</td>\n",
       "      <td>среднее</td>\n",
       "      <td>1</td>\n",
       "      <td>женат / замужем</td>\n",
       "      <td>0</td>\n",
       "      <td>F</td>\n",
       "      <td>сотрудник</td>\n",
       "      <td>0</td>\n",
       "      <td>102166.458894</td>\n",
       "      <td>ремонт жилью</td>\n",
       "    </tr>\n",
       "    <tr>\n",
       "      <th>578</th>\n",
       "      <td>0</td>\n",
       "      <td>397856.565013</td>\n",
       "      <td>0</td>\n",
       "      <td>среднее</td>\n",
       "      <td>1</td>\n",
       "      <td>женат / замужем</td>\n",
       "      <td>0</td>\n",
       "      <td>F</td>\n",
       "      <td>пенсионер</td>\n",
       "      <td>0</td>\n",
       "      <td>97620.687042</td>\n",
       "      <td>строительство собственной недвижимости</td>\n",
       "    </tr>\n",
       "    <tr>\n",
       "      <th>1040</th>\n",
       "      <td>0</td>\n",
       "      <td>1158.029561</td>\n",
       "      <td>0</td>\n",
       "      <td>высшее</td>\n",
       "      <td>0</td>\n",
       "      <td>в разводе</td>\n",
       "      <td>3</td>\n",
       "      <td>F</td>\n",
       "      <td>компаньон</td>\n",
       "      <td>0</td>\n",
       "      <td>303994.134987</td>\n",
       "      <td>свой автомобиль</td>\n",
       "    </tr>\n",
       "    <tr>\n",
       "      <th>...</th>\n",
       "      <td>...</td>\n",
       "      <td>...</td>\n",
       "      <td>...</td>\n",
       "      <td>...</td>\n",
       "      <td>...</td>\n",
       "      <td>...</td>\n",
       "      <td>...</td>\n",
       "      <td>...</td>\n",
       "      <td>...</td>\n",
       "      <td>...</td>\n",
       "      <td>...</td>\n",
       "      <td>...</td>\n",
       "    </tr>\n",
       "    <tr>\n",
       "      <th>19829</th>\n",
       "      <td>0</td>\n",
       "      <td>1574.202821</td>\n",
       "      <td>0</td>\n",
       "      <td>среднее</td>\n",
       "      <td>1</td>\n",
       "      <td>женат / замужем</td>\n",
       "      <td>0</td>\n",
       "      <td>F</td>\n",
       "      <td>сотрудник</td>\n",
       "      <td>0</td>\n",
       "      <td>142594.396847</td>\n",
       "      <td>жилье</td>\n",
       "    </tr>\n",
       "    <tr>\n",
       "      <th>20462</th>\n",
       "      <td>0</td>\n",
       "      <td>338734.868540</td>\n",
       "      <td>0</td>\n",
       "      <td>среднее</td>\n",
       "      <td>1</td>\n",
       "      <td>женат / замужем</td>\n",
       "      <td>0</td>\n",
       "      <td>F</td>\n",
       "      <td>пенсионер</td>\n",
       "      <td>0</td>\n",
       "      <td>259193.920299</td>\n",
       "      <td>покупка своего жилья</td>\n",
       "    </tr>\n",
       "    <tr>\n",
       "      <th>20577</th>\n",
       "      <td>0</td>\n",
       "      <td>331741.271455</td>\n",
       "      <td>0</td>\n",
       "      <td>среднее</td>\n",
       "      <td>1</td>\n",
       "      <td>Не женат / не замужем</td>\n",
       "      <td>4</td>\n",
       "      <td>F</td>\n",
       "      <td>пенсионер</td>\n",
       "      <td>0</td>\n",
       "      <td>129788.762899</td>\n",
       "      <td>недвижимость</td>\n",
       "    </tr>\n",
       "    <tr>\n",
       "      <th>21179</th>\n",
       "      <td>2</td>\n",
       "      <td>108.967042</td>\n",
       "      <td>0</td>\n",
       "      <td>высшее</td>\n",
       "      <td>0</td>\n",
       "      <td>женат / замужем</td>\n",
       "      <td>0</td>\n",
       "      <td>M</td>\n",
       "      <td>компаньон</td>\n",
       "      <td>0</td>\n",
       "      <td>240702.007382</td>\n",
       "      <td>строительство жилой недвижимости</td>\n",
       "    </tr>\n",
       "    <tr>\n",
       "      <th>21313</th>\n",
       "      <td>0</td>\n",
       "      <td>1268.487728</td>\n",
       "      <td>0</td>\n",
       "      <td>среднее</td>\n",
       "      <td>1</td>\n",
       "      <td>Не женат / не замужем</td>\n",
       "      <td>4</td>\n",
       "      <td>M</td>\n",
       "      <td>сотрудник</td>\n",
       "      <td>0</td>\n",
       "      <td>152419.184851</td>\n",
       "      <td>операции с жильем</td>\n",
       "    </tr>\n",
       "  </tbody>\n",
       "</table>\n",
       "<p>101 rows × 12 columns</p>\n",
       "</div>"
      ],
      "text/plain": [
       "       children  days_employed  dob_years education  education_id  \\\n",
       "99            0  346541.618895          0   Среднее             1   \n",
       "149           0    2664.273168          0   среднее             1   \n",
       "270           3    1872.663186          0   среднее             1   \n",
       "578           0  397856.565013          0   среднее             1   \n",
       "1040          0    1158.029561          0    высшее             0   \n",
       "...         ...            ...        ...       ...           ...   \n",
       "19829         0    1574.202821          0   среднее             1   \n",
       "20462         0  338734.868540          0   среднее             1   \n",
       "20577         0  331741.271455          0   среднее             1   \n",
       "21179         2     108.967042          0    высшее             0   \n",
       "21313         0    1268.487728          0   среднее             1   \n",
       "\n",
       "               family_status  family_status_id gender income_type  debt  \\\n",
       "99           женат / замужем                 0      F   пенсионер     0   \n",
       "149                в разводе                 3      F   сотрудник     0   \n",
       "270          женат / замужем                 0      F   сотрудник     0   \n",
       "578          женат / замужем                 0      F   пенсионер     0   \n",
       "1040               в разводе                 3      F   компаньон     0   \n",
       "...                      ...               ...    ...         ...   ...   \n",
       "19829        женат / замужем                 0      F   сотрудник     0   \n",
       "20462        женат / замужем                 0      F   пенсионер     0   \n",
       "20577  Не женат / не замужем                 4      F   пенсионер     0   \n",
       "21179        женат / замужем                 0      M   компаньон     0   \n",
       "21313  Не женат / не замужем                 4      M   сотрудник     0   \n",
       "\n",
       "        total_income                                 purpose  \n",
       "99      71291.522491                              автомобиль  \n",
       "149     70176.435951                       операции с жильем  \n",
       "270    102166.458894                            ремонт жилью  \n",
       "578     97620.687042  строительство собственной недвижимости  \n",
       "1040   303994.134987                         свой автомобиль  \n",
       "...              ...                                     ...  \n",
       "19829  142594.396847                                   жилье  \n",
       "20462  259193.920299                    покупка своего жилья  \n",
       "20577  129788.762899                            недвижимость  \n",
       "21179  240702.007382        строительство жилой недвижимости  \n",
       "21313  152419.184851                       операции с жильем  \n",
       "\n",
       "[101 rows x 12 columns]"
      ]
     },
     "execution_count": 10,
     "metadata": {},
     "output_type": "execute_result"
    }
   ],
   "source": [
    "data[data.dob_years == 0]"
   ]
  },
  {
   "cell_type": "markdown",
   "id": "c7eb0b5d-868a-4c58-96fe-9a9d2d896e3c",
   "metadata": {},
   "source": [
    "101 значение, возможно пропуски при заполнении данных. Заполним средним по `income_type`."
   ]
  },
  {
   "cell_type": "code",
   "execution_count": 11,
   "id": "5d4f9333-ce10-4f58-95a0-43f031c835b0",
   "metadata": {},
   "outputs": [],
   "source": [
    "mean_by_income_type = data.groupby(\"income_type\")[\"dob_years\"].mean().round(0)\n",
    "data.loc[data[\"dob_years\"] == 0, \"dob_years\"] = data[data[\"dob_years\"] == 0][\"income_type\"].map(mean_by_income_type)"
   ]
  },
  {
   "cell_type": "code",
   "execution_count": 12,
   "id": "3545d9fb-1856-4920-b664-e271673aef99",
   "metadata": {},
   "outputs": [
    {
     "data": {
      "text/html": [
       "<div>\n",
       "<style scoped>\n",
       "    .dataframe tbody tr th:only-of-type {\n",
       "        vertical-align: middle;\n",
       "    }\n",
       "\n",
       "    .dataframe tbody tr th {\n",
       "        vertical-align: top;\n",
       "    }\n",
       "\n",
       "    .dataframe thead th {\n",
       "        text-align: right;\n",
       "    }\n",
       "</style>\n",
       "<table border=\"1\" class=\"dataframe\">\n",
       "  <thead>\n",
       "    <tr style=\"text-align: right;\">\n",
       "      <th></th>\n",
       "      <th>children</th>\n",
       "      <th>days_employed</th>\n",
       "      <th>dob_years</th>\n",
       "      <th>education</th>\n",
       "      <th>education_id</th>\n",
       "      <th>family_status</th>\n",
       "      <th>family_status_id</th>\n",
       "      <th>gender</th>\n",
       "      <th>income_type</th>\n",
       "      <th>debt</th>\n",
       "      <th>total_income</th>\n",
       "      <th>purpose</th>\n",
       "    </tr>\n",
       "  </thead>\n",
       "  <tbody>\n",
       "    <tr>\n",
       "      <th>99</th>\n",
       "      <td>0</td>\n",
       "      <td>346541.618895</td>\n",
       "      <td>59</td>\n",
       "      <td>Среднее</td>\n",
       "      <td>1</td>\n",
       "      <td>женат / замужем</td>\n",
       "      <td>0</td>\n",
       "      <td>F</td>\n",
       "      <td>пенсионер</td>\n",
       "      <td>0</td>\n",
       "      <td>71291.522491</td>\n",
       "      <td>автомобиль</td>\n",
       "    </tr>\n",
       "    <tr>\n",
       "      <th>149</th>\n",
       "      <td>0</td>\n",
       "      <td>2664.273168</td>\n",
       "      <td>40</td>\n",
       "      <td>среднее</td>\n",
       "      <td>1</td>\n",
       "      <td>в разводе</td>\n",
       "      <td>3</td>\n",
       "      <td>F</td>\n",
       "      <td>сотрудник</td>\n",
       "      <td>0</td>\n",
       "      <td>70176.435951</td>\n",
       "      <td>операции с жильем</td>\n",
       "    </tr>\n",
       "    <tr>\n",
       "      <th>270</th>\n",
       "      <td>3</td>\n",
       "      <td>1872.663186</td>\n",
       "      <td>40</td>\n",
       "      <td>среднее</td>\n",
       "      <td>1</td>\n",
       "      <td>женат / замужем</td>\n",
       "      <td>0</td>\n",
       "      <td>F</td>\n",
       "      <td>сотрудник</td>\n",
       "      <td>0</td>\n",
       "      <td>102166.458894</td>\n",
       "      <td>ремонт жилью</td>\n",
       "    </tr>\n",
       "    <tr>\n",
       "      <th>578</th>\n",
       "      <td>0</td>\n",
       "      <td>397856.565013</td>\n",
       "      <td>59</td>\n",
       "      <td>среднее</td>\n",
       "      <td>1</td>\n",
       "      <td>женат / замужем</td>\n",
       "      <td>0</td>\n",
       "      <td>F</td>\n",
       "      <td>пенсионер</td>\n",
       "      <td>0</td>\n",
       "      <td>97620.687042</td>\n",
       "      <td>строительство собственной недвижимости</td>\n",
       "    </tr>\n",
       "  </tbody>\n",
       "</table>\n",
       "</div>"
      ],
      "text/plain": [
       "     children  days_employed  dob_years education  education_id  \\\n",
       "99          0  346541.618895         59   Среднее             1   \n",
       "149         0    2664.273168         40   среднее             1   \n",
       "270         3    1872.663186         40   среднее             1   \n",
       "578         0  397856.565013         59   среднее             1   \n",
       "\n",
       "       family_status  family_status_id gender income_type  debt  \\\n",
       "99   женат / замужем                 0      F   пенсионер     0   \n",
       "149        в разводе                 3      F   сотрудник     0   \n",
       "270  женат / замужем                 0      F   сотрудник     0   \n",
       "578  женат / замужем                 0      F   пенсионер     0   \n",
       "\n",
       "      total_income                                 purpose  \n",
       "99    71291.522491                              автомобиль  \n",
       "149   70176.435951                       операции с жильем  \n",
       "270  102166.458894                            ремонт жилью  \n",
       "578   97620.687042  строительство собственной недвижимости  "
      ]
     },
     "execution_count": 12,
     "metadata": {},
     "output_type": "execute_result"
    }
   ],
   "source": [
    "data.loc[[99, 149, 270, 578], :]"
   ]
  },
  {
   "cell_type": "markdown",
   "id": "fd07ff77-9fa5-43ea-ad09-e51e365da715",
   "metadata": {},
   "source": [
    "Нули заполнены корректно. Приступим к столбцам `education` и `education_id`."
   ]
  },
  {
   "cell_type": "code",
   "execution_count": 13,
   "id": "8bc61216-afe3-429b-9e93-24747c59869d",
   "metadata": {},
   "outputs": [
    {
     "data": {
      "text/plain": [
       "array(['высшее', 'среднее', 'Среднее', 'СРЕДНЕЕ', 'ВЫСШЕЕ',\n",
       "       'неоконченное высшее', 'начальное', 'Высшее',\n",
       "       'НЕОКОНЧЕННОЕ ВЫСШЕЕ', 'Неоконченное высшее', 'НАЧАЛЬНОЕ',\n",
       "       'Начальное', 'Ученая степень', 'УЧЕНАЯ СТЕПЕНЬ', 'ученая степень'],\n",
       "      dtype=object)"
      ]
     },
     "execution_count": 13,
     "metadata": {},
     "output_type": "execute_result"
    }
   ],
   "source": [
    "data.education.unique()"
   ]
  },
  {
   "cell_type": "markdown",
   "id": "59920211-488e-4727-b8b7-730dbd5da1ec",
   "metadata": {},
   "source": [
    "Приведём всё к нижнему регистру и проверим соответствие категорий."
   ]
  },
  {
   "cell_type": "code",
   "execution_count": 14,
   "id": "678e5b6c-51c6-4f9e-9dc3-91cc0bfff7a9",
   "metadata": {},
   "outputs": [
    {
     "data": {
      "text/plain": [
       "array(['высшее', 'среднее', 'неоконченное высшее', 'начальное',\n",
       "       'ученая степень'], dtype=object)"
      ]
     },
     "execution_count": 14,
     "metadata": {},
     "output_type": "execute_result"
    }
   ],
   "source": [
    "data.education = data.education.apply(lambda x: x.lower())\n",
    "data.education.unique()"
   ]
  },
  {
   "cell_type": "code",
   "execution_count": 15,
   "id": "44764abe-2c3b-46b5-bbbc-6713e73e5b86",
   "metadata": {},
   "outputs": [
    {
     "data": {
      "text/plain": [
       "education_id  education          \n",
       "0             высшее                  5260\n",
       "1             среднее                15233\n",
       "2             неоконченное высшее      744\n",
       "3             начальное                282\n",
       "4             ученая степень             6\n",
       "Name: count, dtype: int64"
      ]
     },
     "execution_count": 15,
     "metadata": {},
     "output_type": "execute_result"
    }
   ],
   "source": [
    "data.groupby('education_id')['education'].value_counts()"
   ]
  },
  {
   "cell_type": "markdown",
   "id": "af7138ac-12e9-425f-b855-269c522d05e0",
   "metadata": {},
   "source": [
    "У категорий немного нарушен порядок нумерации, но условные обозначения соответствуют. Проведём такой же анализ и для столбцов `family_status` и `family_status_id`."
   ]
  },
  {
   "cell_type": "code",
   "execution_count": 16,
   "id": "f805bbed-9dec-4d66-bc1e-f5b11813dc2d",
   "metadata": {},
   "outputs": [
    {
     "data": {
      "text/plain": [
       "family_status_id  family_status        \n",
       "0                 женат / замужем          12380\n",
       "1                 гражданский брак          4177\n",
       "2                 вдовец / вдова             960\n",
       "3                 в разводе                 1195\n",
       "4                 Не женат / не замужем     2813\n",
       "Name: count, dtype: int64"
      ]
     },
     "execution_count": 16,
     "metadata": {},
     "output_type": "execute_result"
    }
   ],
   "source": [
    "data.groupby('family_status_id')['family_status'].value_counts()"
   ]
  },
  {
   "cell_type": "markdown",
   "id": "3344fa48-e356-4737-a2c5-8d664a72e034",
   "metadata": {},
   "source": [
    "Всё в порядке. Посмотрим на `gender`."
   ]
  },
  {
   "cell_type": "code",
   "execution_count": 17,
   "id": "37bec179-e142-452d-bf19-7d3acccc7c94",
   "metadata": {},
   "outputs": [
    {
     "data": {
      "text/plain": [
       "gender\n",
       "F      14236\n",
       "M       7288\n",
       "XNA        1\n",
       "Name: count, dtype: int64"
      ]
     },
     "execution_count": 17,
     "metadata": {},
     "output_type": "execute_result"
    }
   ],
   "source": [
    "data.gender.value_counts()"
   ]
  },
  {
   "cell_type": "markdown",
   "id": "87cbd1af-8f9a-4f0f-9016-7ac097e58aed",
   "metadata": {},
   "source": [
    "`XNA` похоже на пропуск, заполним самым популярным значением - `F`."
   ]
  },
  {
   "cell_type": "code",
   "execution_count": 18,
   "id": "df82a0aa-f90e-4741-b9a1-ca16bca996df",
   "metadata": {},
   "outputs": [],
   "source": [
    "data.loc[data.gender == 'XNA', 'gender'] = 'F'"
   ]
  },
  {
   "cell_type": "code",
   "execution_count": 19,
   "id": "7f240749-ec5b-4968-82d4-7a5f0a88df0c",
   "metadata": {},
   "outputs": [
    {
     "data": {
      "text/plain": [
       "gender\n",
       "F    14237\n",
       "M     7288\n",
       "Name: count, dtype: int64"
      ]
     },
     "execution_count": 19,
     "metadata": {},
     "output_type": "execute_result"
    }
   ],
   "source": [
    "data.gender.value_counts()"
   ]
  },
  {
   "cell_type": "markdown",
   "id": "e9d30d9c-ef11-4c43-afed-f9250bda2009",
   "metadata": {},
   "source": [
    "`gender` исправили, теперь `debt`."
   ]
  },
  {
   "cell_type": "code",
   "execution_count": 20,
   "id": "61e02dc9-e65c-4a4c-af92-732cba882b27",
   "metadata": {},
   "outputs": [
    {
     "data": {
      "text/plain": [
       "debt\n",
       "0    19784\n",
       "1     1741\n",
       "Name: count, dtype: int64"
      ]
     },
     "execution_count": 20,
     "metadata": {},
     "output_type": "execute_result"
    }
   ],
   "source": [
    "data.debt.value_counts()"
   ]
  },
  {
   "cell_type": "markdown",
   "id": "14a99427-e423-462b-85dd-9e532bc79a9e",
   "metadata": {},
   "source": [
    "Всё в порядке, остался столбец `purpose`."
   ]
  },
  {
   "cell_type": "code",
   "execution_count": 21,
   "id": "f32e8a1b-62af-4778-9404-e0618d4fa93f",
   "metadata": {},
   "outputs": [
    {
     "data": {
      "text/plain": [
       "purpose\n",
       "свадьба                                   797\n",
       "на проведение свадьбы                     777\n",
       "сыграть свадьбу                           774\n",
       "операции с недвижимостью                  676\n",
       "покупка коммерческой недвижимости         664\n",
       "покупка жилья для сдачи                   653\n",
       "операции с жильем                         653\n",
       "операции с коммерческой недвижимостью     651\n",
       "покупка жилья                             647\n",
       "жилье                                     647\n",
       "покупка жилья для семьи                   641\n",
       "строительство собственной недвижимости    635\n",
       "недвижимость                              634\n",
       "операции со своей недвижимостью           630\n",
       "строительство жилой недвижимости          626\n",
       "покупка недвижимости                      624\n",
       "строительство недвижимости                620\n",
       "покупка своего жилья                      620\n",
       "ремонт жилью                              612\n",
       "покупка жилой недвижимости                607\n",
       "на покупку своего автомобиля              505\n",
       "заняться высшим образованием              496\n",
       "автомобиль                                495\n",
       "сделка с подержанным автомобилем          489\n",
       "свой автомобиль                           480\n",
       "на покупку подержанного автомобиля        479\n",
       "автомобили                                478\n",
       "на покупку автомобиля                     472\n",
       "дополнительное образование                462\n",
       "приобретение автомобиля                   462\n",
       "сделка с автомобилем                      455\n",
       "высшее образование                        453\n",
       "образование                               447\n",
       "получение дополнительного образования     447\n",
       "получение образования                     443\n",
       "профильное образование                    436\n",
       "получение высшего образования             426\n",
       "заняться образованием                     412\n",
       "Name: count, dtype: int64"
      ]
     },
     "execution_count": 21,
     "metadata": {},
     "output_type": "execute_result"
    }
   ],
   "source": [
    "data.purpose.value_counts()"
   ]
  },
  {
   "cell_type": "markdown",
   "id": "10337fbc-90e0-46e4-b765-91138878acf1",
   "metadata": {},
   "source": [
    "Действительно много похожих категорий, в дальнейшем объединим их в несколько больших. Осталось проверить данные на последний существенный деффект: дубликаты."
   ]
  },
  {
   "cell_type": "markdown",
   "id": "d9d1d5fc-ce66-4b59-9b9a-6d74771cb9f7",
   "metadata": {},
   "source": [
    "### Удаление дубликатов <a class=\"anchor\" id=\"у_д\"></a>"
   ]
  },
  {
   "cell_type": "code",
   "execution_count": 22,
   "id": "9142fb14-44a3-4c96-8ea7-75d279307f9c",
   "metadata": {},
   "outputs": [
    {
     "data": {
      "text/plain": [
       "71"
      ]
     },
     "execution_count": 22,
     "metadata": {},
     "output_type": "execute_result"
    }
   ],
   "source": [
    "data.duplicated().sum()"
   ]
  },
  {
   "cell_type": "code",
   "execution_count": 23,
   "id": "9befd78a-5946-42c3-a122-c064676a783b",
   "metadata": {},
   "outputs": [],
   "source": [
    "data.drop_duplicates(inplace=True)"
   ]
  },
  {
   "cell_type": "markdown",
   "id": "d97f74a0-a7cb-4ea8-98cc-83a5c537c8e7",
   "metadata": {},
   "source": [
    "С дубликатами разобрались. "
   ]
  },
  {
   "cell_type": "markdown",
   "id": "f22ef4ae-660f-4bc7-90e1-74c80d15ba35",
   "metadata": {},
   "source": [
    "### Замена типов данных <a class=\"anchor\" id=\"з_т\"></a>"
   ]
  },
  {
   "cell_type": "code",
   "execution_count": 24,
   "id": "c674f4f4-14f6-43a2-8b0e-1f6fd9f9fa37",
   "metadata": {},
   "outputs": [
    {
     "data": {
      "text/html": [
       "<div>\n",
       "<style scoped>\n",
       "    .dataframe tbody tr th:only-of-type {\n",
       "        vertical-align: middle;\n",
       "    }\n",
       "\n",
       "    .dataframe tbody tr th {\n",
       "        vertical-align: top;\n",
       "    }\n",
       "\n",
       "    .dataframe thead th {\n",
       "        text-align: right;\n",
       "    }\n",
       "</style>\n",
       "<table border=\"1\" class=\"dataframe\">\n",
       "  <thead>\n",
       "    <tr style=\"text-align: right;\">\n",
       "      <th></th>\n",
       "      <th>children</th>\n",
       "      <th>days_employed</th>\n",
       "      <th>dob_years</th>\n",
       "      <th>education</th>\n",
       "      <th>education_id</th>\n",
       "      <th>family_status</th>\n",
       "      <th>family_status_id</th>\n",
       "      <th>gender</th>\n",
       "      <th>income_type</th>\n",
       "      <th>debt</th>\n",
       "      <th>total_income</th>\n",
       "      <th>purpose</th>\n",
       "    </tr>\n",
       "  </thead>\n",
       "  <tbody>\n",
       "    <tr>\n",
       "      <th>0</th>\n",
       "      <td>1</td>\n",
       "      <td>8437.673028</td>\n",
       "      <td>42</td>\n",
       "      <td>высшее</td>\n",
       "      <td>0</td>\n",
       "      <td>женат / замужем</td>\n",
       "      <td>0</td>\n",
       "      <td>F</td>\n",
       "      <td>сотрудник</td>\n",
       "      <td>0</td>\n",
       "      <td>253875.639453</td>\n",
       "      <td>покупка жилья</td>\n",
       "    </tr>\n",
       "    <tr>\n",
       "      <th>1</th>\n",
       "      <td>1</td>\n",
       "      <td>4024.803754</td>\n",
       "      <td>36</td>\n",
       "      <td>среднее</td>\n",
       "      <td>1</td>\n",
       "      <td>женат / замужем</td>\n",
       "      <td>0</td>\n",
       "      <td>F</td>\n",
       "      <td>сотрудник</td>\n",
       "      <td>0</td>\n",
       "      <td>112080.014102</td>\n",
       "      <td>приобретение автомобиля</td>\n",
       "    </tr>\n",
       "    <tr>\n",
       "      <th>2</th>\n",
       "      <td>0</td>\n",
       "      <td>5623.422610</td>\n",
       "      <td>33</td>\n",
       "      <td>среднее</td>\n",
       "      <td>1</td>\n",
       "      <td>женат / замужем</td>\n",
       "      <td>0</td>\n",
       "      <td>M</td>\n",
       "      <td>сотрудник</td>\n",
       "      <td>0</td>\n",
       "      <td>145885.952297</td>\n",
       "      <td>покупка жилья</td>\n",
       "    </tr>\n",
       "  </tbody>\n",
       "</table>\n",
       "</div>"
      ],
      "text/plain": [
       "   children  days_employed  dob_years education  education_id  \\\n",
       "0         1    8437.673028         42    высшее             0   \n",
       "1         1    4024.803754         36   среднее             1   \n",
       "2         0    5623.422610         33   среднее             1   \n",
       "\n",
       "     family_status  family_status_id gender income_type  debt   total_income  \\\n",
       "0  женат / замужем                 0      F   сотрудник     0  253875.639453   \n",
       "1  женат / замужем                 0      F   сотрудник     0  112080.014102   \n",
       "2  женат / замужем                 0      M   сотрудник     0  145885.952297   \n",
       "\n",
       "                   purpose  \n",
       "0            покупка жилья  \n",
       "1  приобретение автомобиля  \n",
       "2            покупка жилья  "
      ]
     },
     "execution_count": 24,
     "metadata": {},
     "output_type": "execute_result"
    }
   ],
   "source": [
    "data.head(3)"
   ]
  },
  {
   "cell_type": "markdown",
   "id": "5542e22b-bc90-4274-844f-2365137a487c",
   "metadata": {},
   "source": [
    "Для столбцов `children`, `dob_years`, `education_id`, `family_status_id`, `debt` подойдёт тип данных `int16`. Для `days_employed`, `total_income` лучше использовать `int64`."
   ]
  },
  {
   "cell_type": "code",
   "execution_count": 25,
   "id": "99ca72ea-0c50-48c8-bde4-d1643e6401d1",
   "metadata": {},
   "outputs": [
    {
     "name": "stdout",
     "output_type": "stream",
     "text": [
      "<class 'pandas.core.frame.DataFrame'>\n",
      "Index: 21454 entries, 0 to 21524\n",
      "Data columns (total 12 columns):\n",
      " #   Column            Non-Null Count  Dtype \n",
      "---  ------            --------------  ----- \n",
      " 0   children          21454 non-null  int16 \n",
      " 1   days_employed     21454 non-null  int64 \n",
      " 2   dob_years         21454 non-null  int16 \n",
      " 3   education         21454 non-null  object\n",
      " 4   education_id      21454 non-null  int16 \n",
      " 5   family_status     21454 non-null  object\n",
      " 6   family_status_id  21454 non-null  int16 \n",
      " 7   gender            21454 non-null  object\n",
      " 8   income_type       21454 non-null  object\n",
      " 9   debt              21454 non-null  int16 \n",
      " 10  total_income      21454 non-null  int64 \n",
      " 11  purpose           21454 non-null  object\n",
      "dtypes: int16(5), int64(2), object(5)\n",
      "memory usage: 1.5+ MB\n"
     ]
    }
   ],
   "source": [
    "data[['children', 'dob_years', 'education_id', 'family_status_id', 'debt']] = data[['children', 'dob_years', 'education_id', 'family_status_id', 'debt']].astype('int16')\n",
    "data[['days_employed', 'total_income']] = data[['days_employed', 'total_income']].astype('int64')\n",
    "data.info()"
   ]
  },
  {
   "cell_type": "markdown",
   "id": "3208c81b-16dd-4f8c-92a5-dc5c7ccab803",
   "metadata": {},
   "source": [
    "Категоризируем данные в столбце `total_income` и в столбце `purpose_category` сгруппируем категории."
   ]
  },
  {
   "cell_type": "markdown",
   "id": "0d7094f3-0261-4678-89b5-967c7649ec15",
   "metadata": {},
   "source": [
    "### Категоризация данных <a class=\"anchor\" id=\"к_д\"></a>"
   ]
  },
  {
   "cell_type": "markdown",
   "id": "f439815d-c77a-42fe-a402-d7bb77d65a79",
   "metadata": {},
   "source": [
    "Выделем 5 категорий по перцентилям с равным шагом."
   ]
  },
  {
   "cell_type": "code",
   "execution_count": 26,
   "id": "329888d8-a4b1-4d86-af0b-4fcfc0600158",
   "metadata": {},
   "outputs": [
    {
     "data": {
      "text/plain": [
       "count    2.145400e+04\n",
       "mean     1.653196e+05\n",
       "std      9.818730e+04\n",
       "min      2.066700e+04\n",
       "20%      9.853760e+04\n",
       "40%      1.321344e+05\n",
       "50%      1.425940e+05\n",
       "60%      1.613350e+05\n",
       "80%      2.146182e+05\n",
       "max      2.265604e+06\n",
       "Name: total_income, dtype: float64"
      ]
     },
     "execution_count": 26,
     "metadata": {},
     "output_type": "execute_result"
    }
   ],
   "source": [
    "data['total_income'].describe(percentiles=[0.2,0.4,0.6,0.8,])"
   ]
  },
  {
   "cell_type": "markdown",
   "id": "50d616c9-e8a9-4b23-8a17-d0eeaf67d712",
   "metadata": {},
   "source": [
    "Напишем функции для выполнения задач, добавив численные значения к категории по доходам для удобной сортировки."
   ]
  },
  {
   "cell_type": "code",
   "execution_count": 27,
   "id": "791bfd30-6f4f-437d-86ff-e3297d9bcb45",
   "metadata": {},
   "outputs": [],
   "source": [
    "def categorize_income(income):\n",
    "    try:\n",
    "        if 0 <= income <= 90000:\n",
    "            return '1 очень низкий доход'\n",
    "        elif 90001 <= income <= 130000:\n",
    "            return '2 низкий доход'\n",
    "        elif 130001 <= income <= 160000:\n",
    "            return '3 средний доход'\n",
    "        elif 160001 <= income <= 214000:\n",
    "            return '4 высокий доход'\n",
    "        elif income >= 214001:\n",
    "            return '5 очень высокий доход'\n",
    "    except:\n",
    "        pass"
   ]
  },
  {
   "cell_type": "code",
   "execution_count": 28,
   "id": "ee502813-46aa-412c-b0a3-c874b1b481f3",
   "metadata": {},
   "outputs": [],
   "source": [
    "def categorize_purpose(row):\n",
    "    try:\n",
    "        if 'автом' in row:\n",
    "            return 'операции с автомобилем'\n",
    "        elif 'жил' in row or 'недвиж' in row:\n",
    "            return 'операции с недвижимостью'\n",
    "        elif 'свад' in row:\n",
    "            return 'проведение свадьбы'\n",
    "        elif 'образов' in row:\n",
    "            return 'получение образования'\n",
    "    except:\n",
    "        return 'нет категории'"
   ]
  },
  {
   "cell_type": "code",
   "execution_count": 29,
   "id": "1f8eadf5-8eea-449b-9981-7aac9e829066",
   "metadata": {},
   "outputs": [],
   "source": [
    "data.total_income_category. = data.total_income.apply(categorize_income)\n",
    "data.purpose_category. = data.purpose.apply(categorize_purpose)"
   ]
  },
  {
   "cell_type": "code",
   "execution_count": 30,
   "id": "36590161-67ab-4e06-8b00-cf0ee652e9ce",
   "metadata": {},
   "outputs": [
    {
     "data": {
      "text/html": [
       "<div>\n",
       "<style scoped>\n",
       "    .dataframe tbody tr th:only-of-type {\n",
       "        vertical-align: middle;\n",
       "    }\n",
       "\n",
       "    .dataframe tbody tr th {\n",
       "        vertical-align: top;\n",
       "    }\n",
       "\n",
       "    .dataframe thead th {\n",
       "        text-align: right;\n",
       "    }\n",
       "</style>\n",
       "<table border=\"1\" class=\"dataframe\">\n",
       "  <thead>\n",
       "    <tr style=\"text-align: right;\">\n",
       "      <th></th>\n",
       "      <th>children</th>\n",
       "      <th>days_employed</th>\n",
       "      <th>dob_years</th>\n",
       "      <th>education</th>\n",
       "      <th>education_id</th>\n",
       "      <th>family_status</th>\n",
       "      <th>family_status_id</th>\n",
       "      <th>gender</th>\n",
       "      <th>income_type</th>\n",
       "      <th>debt</th>\n",
       "      <th>total_income</th>\n",
       "      <th>purpose</th>\n",
       "      <th>total_income_category</th>\n",
       "      <th>purpose_category</th>\n",
       "    </tr>\n",
       "  </thead>\n",
       "  <tbody>\n",
       "    <tr>\n",
       "      <th>0</th>\n",
       "      <td>1</td>\n",
       "      <td>8437</td>\n",
       "      <td>42</td>\n",
       "      <td>высшее</td>\n",
       "      <td>0</td>\n",
       "      <td>женат / замужем</td>\n",
       "      <td>0</td>\n",
       "      <td>F</td>\n",
       "      <td>сотрудник</td>\n",
       "      <td>0</td>\n",
       "      <td>253875</td>\n",
       "      <td>покупка жилья</td>\n",
       "      <td>5 очень высокий доход</td>\n",
       "      <td>операции с недвижимостью</td>\n",
       "    </tr>\n",
       "    <tr>\n",
       "      <th>1</th>\n",
       "      <td>1</td>\n",
       "      <td>4024</td>\n",
       "      <td>36</td>\n",
       "      <td>среднее</td>\n",
       "      <td>1</td>\n",
       "      <td>женат / замужем</td>\n",
       "      <td>0</td>\n",
       "      <td>F</td>\n",
       "      <td>сотрудник</td>\n",
       "      <td>0</td>\n",
       "      <td>112080</td>\n",
       "      <td>приобретение автомобиля</td>\n",
       "      <td>2 низкий доход</td>\n",
       "      <td>операции с автомобилем</td>\n",
       "    </tr>\n",
       "    <tr>\n",
       "      <th>2</th>\n",
       "      <td>0</td>\n",
       "      <td>5623</td>\n",
       "      <td>33</td>\n",
       "      <td>среднее</td>\n",
       "      <td>1</td>\n",
       "      <td>женат / замужем</td>\n",
       "      <td>0</td>\n",
       "      <td>M</td>\n",
       "      <td>сотрудник</td>\n",
       "      <td>0</td>\n",
       "      <td>145885</td>\n",
       "      <td>покупка жилья</td>\n",
       "      <td>3 средний доход</td>\n",
       "      <td>операции с недвижимостью</td>\n",
       "    </tr>\n",
       "    <tr>\n",
       "      <th>3</th>\n",
       "      <td>3</td>\n",
       "      <td>4124</td>\n",
       "      <td>32</td>\n",
       "      <td>среднее</td>\n",
       "      <td>1</td>\n",
       "      <td>женат / замужем</td>\n",
       "      <td>0</td>\n",
       "      <td>M</td>\n",
       "      <td>сотрудник</td>\n",
       "      <td>0</td>\n",
       "      <td>267628</td>\n",
       "      <td>дополнительное образование</td>\n",
       "      <td>5 очень высокий доход</td>\n",
       "      <td>получение образования</td>\n",
       "    </tr>\n",
       "    <tr>\n",
       "      <th>4</th>\n",
       "      <td>0</td>\n",
       "      <td>340266</td>\n",
       "      <td>53</td>\n",
       "      <td>среднее</td>\n",
       "      <td>1</td>\n",
       "      <td>гражданский брак</td>\n",
       "      <td>1</td>\n",
       "      <td>F</td>\n",
       "      <td>пенсионер</td>\n",
       "      <td>0</td>\n",
       "      <td>158616</td>\n",
       "      <td>сыграть свадьбу</td>\n",
       "      <td>3 средний доход</td>\n",
       "      <td>проведение свадьбы</td>\n",
       "    </tr>\n",
       "  </tbody>\n",
       "</table>\n",
       "</div>"
      ],
      "text/plain": [
       "   children  days_employed  dob_years education  education_id  \\\n",
       "0         1           8437         42    высшее             0   \n",
       "1         1           4024         36   среднее             1   \n",
       "2         0           5623         33   среднее             1   \n",
       "3         3           4124         32   среднее             1   \n",
       "4         0         340266         53   среднее             1   \n",
       "\n",
       "      family_status  family_status_id gender income_type  debt  total_income  \\\n",
       "0   женат / замужем                 0      F   сотрудник     0        253875   \n",
       "1   женат / замужем                 0      F   сотрудник     0        112080   \n",
       "2   женат / замужем                 0      M   сотрудник     0        145885   \n",
       "3   женат / замужем                 0      M   сотрудник     0        267628   \n",
       "4  гражданский брак                 1      F   пенсионер     0        158616   \n",
       "\n",
       "                      purpose  total_income_category          purpose_category  \n",
       "0               покупка жилья  5 очень высокий доход  операции с недвижимостью  \n",
       "1     приобретение автомобиля         2 низкий доход    операции с автомобилем  \n",
       "2               покупка жилья        3 средний доход  операции с недвижимостью  \n",
       "3  дополнительное образование  5 очень высокий доход     получение образования  \n",
       "4             сыграть свадьбу        3 средний доход        проведение свадьбы  "
      ]
     },
     "execution_count": 30,
     "metadata": {},
     "output_type": "execute_result"
    }
   ],
   "source": [
    "data.head()"
   ]
  },
  {
   "cell_type": "markdown",
   "id": "8b7a05a1-c160-4d13-84c2-e02e4fe79f53",
   "metadata": {},
   "source": [
    "Данные готовы для исследования."
   ]
  },
  {
   "cell_type": "markdown",
   "id": "c95becc0-72ef-409a-b60e-27da05cf2042",
   "metadata": {},
   "source": [
    "## Исследование данных <a class=\"anchor\" id=\"и_д\"></a>"
   ]
  },
  {
   "cell_type": "markdown",
   "id": "8fa741d6-70ff-4854-a179-17d52a5a0b37",
   "metadata": {},
   "source": [
    "Так как вопросы похожи по структуре, то базовые ответы на них можно получить одной функцией. Напишем её."
   ]
  },
  {
   "cell_type": "code",
   "execution_count": 31,
   "id": "87ca6d04-1130-4a07-9266-7170c6fffffb",
   "metadata": {},
   "outputs": [],
   "source": [
    "def to_percent(x):\n",
    "    return x.map('{:.2%}'.format)\n",
    "\n",
    "def answer(df, col1):\n",
    "    pivot = df.pivot_table(index=col1, values='debt', aggfunc=('count', 'mean'))\n",
    "    pivot['percent_from_all'] = pivot['count'] / pivot['count'].sum()\n",
    "    pivot[['mean', 'percent_from_all']] = pivot[['mean', 'percent_from_all']].apply(to_percent)\n",
    "    display(pivot)"
   ]
  },
  {
   "cell_type": "markdown",
   "id": "653d8b98-0cfb-4082-b89a-4a8bf2d330a2",
   "metadata": {},
   "source": [
    "Посчитаем среднее значение просрочек по кредитам, чтобы использовать его в качестве референса для целевых групп."
   ]
  },
  {
   "cell_type": "code",
   "execution_count": 32,
   "id": "c2b090b1-6aa6-4ea0-a56f-cc46780636a6",
   "metadata": {},
   "outputs": [
    {
     "data": {
      "text/plain": [
       "debt\n",
       "0    0.91885\n",
       "1    0.08115\n",
       "Name: proportion, dtype: float64"
      ]
     },
     "execution_count": 32,
     "metadata": {},
     "output_type": "execute_result"
    }
   ],
   "source": [
    "data.debt.value_counts(normalize=True)"
   ]
  },
  {
   "cell_type": "markdown",
   "id": "4fdb2528-f592-4a5d-9859-da78a7e9c2f3",
   "metadata": {},
   "source": [
    "**8.12%** просрочек - при оценке будем отталкиваться от этого значения. Дальнейший анализ будет делать упор на характеристику *\"процент просрочек\"*."
   ]
  },
  {
   "cell_type": "markdown",
   "id": "d71d4260-d70b-40dd-9470-520bbacec1ba",
   "metadata": {},
   "source": [
    "### Есть ли зависимость между количеством детей и возвратом кредита в срок? <a class=\"anchor\" id=\"к_де\"></a>"
   ]
  },
  {
   "cell_type": "code",
   "execution_count": 33,
   "id": "57310197-2e06-4f8b-8085-30f306eb4dfc",
   "metadata": {},
   "outputs": [
    {
     "data": {
      "text/html": [
       "<div>\n",
       "<style scoped>\n",
       "    .dataframe tbody tr th:only-of-type {\n",
       "        vertical-align: middle;\n",
       "    }\n",
       "\n",
       "    .dataframe tbody tr th {\n",
       "        vertical-align: top;\n",
       "    }\n",
       "\n",
       "    .dataframe thead th {\n",
       "        text-align: right;\n",
       "    }\n",
       "</style>\n",
       "<table border=\"1\" class=\"dataframe\">\n",
       "  <thead>\n",
       "    <tr style=\"text-align: right;\">\n",
       "      <th></th>\n",
       "      <th>count</th>\n",
       "      <th>mean</th>\n",
       "      <th>percent_from_all</th>\n",
       "    </tr>\n",
       "    <tr>\n",
       "      <th>children</th>\n",
       "      <th></th>\n",
       "      <th></th>\n",
       "      <th></th>\n",
       "    </tr>\n",
       "  </thead>\n",
       "  <tbody>\n",
       "    <tr>\n",
       "      <th>0</th>\n",
       "      <td>14091</td>\n",
       "      <td>7.54%</td>\n",
       "      <td>65.68%</td>\n",
       "    </tr>\n",
       "    <tr>\n",
       "      <th>1</th>\n",
       "      <td>4855</td>\n",
       "      <td>9.17%</td>\n",
       "      <td>22.63%</td>\n",
       "    </tr>\n",
       "    <tr>\n",
       "      <th>2</th>\n",
       "      <td>2128</td>\n",
       "      <td>9.49%</td>\n",
       "      <td>9.92%</td>\n",
       "    </tr>\n",
       "    <tr>\n",
       "      <th>3</th>\n",
       "      <td>330</td>\n",
       "      <td>8.18%</td>\n",
       "      <td>1.54%</td>\n",
       "    </tr>\n",
       "    <tr>\n",
       "      <th>4</th>\n",
       "      <td>41</td>\n",
       "      <td>9.76%</td>\n",
       "      <td>0.19%</td>\n",
       "    </tr>\n",
       "    <tr>\n",
       "      <th>5</th>\n",
       "      <td>9</td>\n",
       "      <td>0.00%</td>\n",
       "      <td>0.04%</td>\n",
       "    </tr>\n",
       "  </tbody>\n",
       "</table>\n",
       "</div>"
      ],
      "text/plain": [
       "          count   mean percent_from_all\n",
       "children                               \n",
       "0         14091  7.54%           65.68%\n",
       "1          4855  9.17%           22.63%\n",
       "2          2128  9.49%            9.92%\n",
       "3           330  8.18%            1.54%\n",
       "4            41  9.76%            0.19%\n",
       "5             9  0.00%            0.04%"
      ]
     },
     "metadata": {},
     "output_type": "display_data"
    }
   ],
   "source": [
    "answer(data, 'children')"
   ]
  },
  {
   "cell_type": "markdown",
   "id": "0904ae2f-73f5-4b1a-8e68-0dc346f82cc7",
   "metadata": {},
   "source": [
    "**Вывод**\n",
    "\n",
    "* Клиенты даже с одним ребёнком более чем на 1.5% чаще допускают просрочки по кредитам, чем клиенты без детей: **9.17% против 7.54%**.\n",
    "* При этом стоит отметить, что при увеличении количества детей вероятность просрочки тоже возрастает вплоть до **9.76%** для клиентов с 4 детьми, однако данных о таких клиентах недостаточно для точной оценки.\n",
    "\n",
    "Можно предположить, что сказывается доплнительная финансовая нагрузка в виде трат на содержание ребёнка. "
   ]
  },
  {
   "cell_type": "markdown",
   "id": "cfe49d36-eb9e-45b6-9eb9-2e6c6f040aae",
   "metadata": {},
   "source": [
    "### Есть ли зависимость между семейным положением и возвратом кредита в срок? <a class=\"anchor\" id=\"с_п\"></a>"
   ]
  },
  {
   "cell_type": "code",
   "execution_count": 34,
   "id": "56645e3c-a7ac-4c97-bdac-a00ad93237eb",
   "metadata": {},
   "outputs": [
    {
     "data": {
      "text/html": [
       "<div>\n",
       "<style scoped>\n",
       "    .dataframe tbody tr th:only-of-type {\n",
       "        vertical-align: middle;\n",
       "    }\n",
       "\n",
       "    .dataframe tbody tr th {\n",
       "        vertical-align: top;\n",
       "    }\n",
       "\n",
       "    .dataframe thead th {\n",
       "        text-align: right;\n",
       "    }\n",
       "</style>\n",
       "<table border=\"1\" class=\"dataframe\">\n",
       "  <thead>\n",
       "    <tr style=\"text-align: right;\">\n",
       "      <th></th>\n",
       "      <th>count</th>\n",
       "      <th>mean</th>\n",
       "      <th>percent_from_all</th>\n",
       "    </tr>\n",
       "    <tr>\n",
       "      <th>family_status</th>\n",
       "      <th></th>\n",
       "      <th></th>\n",
       "      <th></th>\n",
       "    </tr>\n",
       "  </thead>\n",
       "  <tbody>\n",
       "    <tr>\n",
       "      <th>Не женат / не замужем</th>\n",
       "      <td>2810</td>\n",
       "      <td>9.75%</td>\n",
       "      <td>13.10%</td>\n",
       "    </tr>\n",
       "    <tr>\n",
       "      <th>в разводе</th>\n",
       "      <td>1195</td>\n",
       "      <td>7.11%</td>\n",
       "      <td>5.57%</td>\n",
       "    </tr>\n",
       "    <tr>\n",
       "      <th>вдовец / вдова</th>\n",
       "      <td>959</td>\n",
       "      <td>6.57%</td>\n",
       "      <td>4.47%</td>\n",
       "    </tr>\n",
       "    <tr>\n",
       "      <th>гражданский брак</th>\n",
       "      <td>4151</td>\n",
       "      <td>9.35%</td>\n",
       "      <td>19.35%</td>\n",
       "    </tr>\n",
       "    <tr>\n",
       "      <th>женат / замужем</th>\n",
       "      <td>12339</td>\n",
       "      <td>7.55%</td>\n",
       "      <td>57.51%</td>\n",
       "    </tr>\n",
       "  </tbody>\n",
       "</table>\n",
       "</div>"
      ],
      "text/plain": [
       "                       count   mean percent_from_all\n",
       "family_status                                       \n",
       "Не женат / не замужем   2810  9.75%           13.10%\n",
       "в разводе               1195  7.11%            5.57%\n",
       "вдовец / вдова           959  6.57%            4.47%\n",
       "гражданский брак        4151  9.35%           19.35%\n",
       "женат / замужем        12339  7.55%           57.51%"
      ]
     },
     "metadata": {},
     "output_type": "display_data"
    }
   ],
   "source": [
    "answer(data, 'family_status')"
   ]
  },
  {
   "cell_type": "markdown",
   "id": "3cc5a78f-c540-47c0-af79-2096773d7c85",
   "metadata": {},
   "source": [
    "Так же посмотрим на распределение в группах по полам."
   ]
  },
  {
   "cell_type": "code",
   "execution_count": 35,
   "id": "5f724529-25bd-457b-a92a-f9f08a67c6ce",
   "metadata": {},
   "outputs": [
    {
     "data": {
      "text/html": [
       "<div>\n",
       "<style scoped>\n",
       "    .dataframe tbody tr th:only-of-type {\n",
       "        vertical-align: middle;\n",
       "    }\n",
       "\n",
       "    .dataframe tbody tr th {\n",
       "        vertical-align: top;\n",
       "    }\n",
       "\n",
       "    .dataframe thead th {\n",
       "        text-align: right;\n",
       "    }\n",
       "</style>\n",
       "<table border=\"1\" class=\"dataframe\">\n",
       "  <thead>\n",
       "    <tr style=\"text-align: right;\">\n",
       "      <th></th>\n",
       "      <th></th>\n",
       "      <th>mean</th>\n",
       "      <th>count</th>\n",
       "    </tr>\n",
       "    <tr>\n",
       "      <th>family_status</th>\n",
       "      <th>gender</th>\n",
       "      <th></th>\n",
       "      <th></th>\n",
       "    </tr>\n",
       "  </thead>\n",
       "  <tbody>\n",
       "    <tr>\n",
       "      <th rowspan=\"2\" valign=\"top\">Не женат / не замужем</th>\n",
       "      <th>F</th>\n",
       "      <td>0.068248</td>\n",
       "      <td>1729</td>\n",
       "    </tr>\n",
       "    <tr>\n",
       "      <th>M</th>\n",
       "      <td>0.144311</td>\n",
       "      <td>1081</td>\n",
       "    </tr>\n",
       "    <tr>\n",
       "      <th rowspan=\"2\" valign=\"top\">в разводе</th>\n",
       "      <th>F</th>\n",
       "      <td>0.065171</td>\n",
       "      <td>936</td>\n",
       "    </tr>\n",
       "    <tr>\n",
       "      <th>M</th>\n",
       "      <td>0.092664</td>\n",
       "      <td>259</td>\n",
       "    </tr>\n",
       "    <tr>\n",
       "      <th rowspan=\"2\" valign=\"top\">вдовец / вдова</th>\n",
       "      <th>F</th>\n",
       "      <td>0.057522</td>\n",
       "      <td>904</td>\n",
       "    </tr>\n",
       "    <tr>\n",
       "      <th>M</th>\n",
       "      <td>0.200000</td>\n",
       "      <td>55</td>\n",
       "    </tr>\n",
       "    <tr>\n",
       "      <th rowspan=\"2\" valign=\"top\">гражданский брак</th>\n",
       "      <th>F</th>\n",
       "      <td>0.081869</td>\n",
       "      <td>2846</td>\n",
       "    </tr>\n",
       "    <tr>\n",
       "      <th>M</th>\n",
       "      <td>0.118774</td>\n",
       "      <td>1305</td>\n",
       "    </tr>\n",
       "    <tr>\n",
       "      <th rowspan=\"2\" valign=\"top\">женат / замужем</th>\n",
       "      <th>F</th>\n",
       "      <td>0.068299</td>\n",
       "      <td>7760</td>\n",
       "    </tr>\n",
       "    <tr>\n",
       "      <th>M</th>\n",
       "      <td>0.087574</td>\n",
       "      <td>4579</td>\n",
       "    </tr>\n",
       "  </tbody>\n",
       "</table>\n",
       "</div>"
      ],
      "text/plain": [
       "                                  mean  count\n",
       "family_status         gender                 \n",
       "Не женат / не замужем F       0.068248   1729\n",
       "                      M       0.144311   1081\n",
       "в разводе             F       0.065171    936\n",
       "                      M       0.092664    259\n",
       "вдовец / вдова        F       0.057522    904\n",
       "                      M       0.200000     55\n",
       "гражданский брак      F       0.081869   2846\n",
       "                      M       0.118774   1305\n",
       "женат / замужем       F       0.068299   7760\n",
       "                      M       0.087574   4579"
      ]
     },
     "execution_count": 35,
     "metadata": {},
     "output_type": "execute_result"
    }
   ],
   "source": [
    "data.groupby(['family_status','gender'])['debt'].agg(['mean','count'])"
   ]
  },
  {
   "cell_type": "markdown",
   "id": "c3ad1d9e-1d44-46c8-97c0-0863b0470e4c",
   "metadata": {},
   "source": [
    "Интересная закономерность: женщины чаще возвращают кредит в срок, чем мужчины. Посмотрим по всем данным."
   ]
  },
  {
   "cell_type": "code",
   "execution_count": 38,
   "id": "ee3d6d1f-e736-4602-9e0f-fff5faded16a",
   "metadata": {},
   "outputs": [
    {
     "data": {
      "text/plain": [
       "gender  debt\n",
       "F       0       0.929877\n",
       "        1       0.070123\n",
       "M       0       0.897376\n",
       "        1       0.102624\n",
       "Name: proportion, dtype: float64"
      ]
     },
     "execution_count": 38,
     "metadata": {},
     "output_type": "execute_result"
    }
   ],
   "source": [
    "data.groupby('gender')['debt'].value_counts(normalize=True)"
   ]
  },
  {
   "cell_type": "markdown",
   "id": "22abdbed-dca9-4f64-9b48-f2c7bdfdf7ad",
   "metadata": {},
   "source": [
    "**Вывод**\n",
    "\n",
    "Видно, что:\n",
    "* больше всего просрочек по кредитам имеют две категории: \"гражданский брак\" и \"Не женат / не замужем\" (**9.35% и 9.75%**) или другими словами, клиенты не бывавшие в браке.\n",
    "* клиенты, чей брак по тем или иным причинам окончен, \"вдовцы / вдовы\" и \"в разводе\" отдают кредиты в срок значительно чаще: **6.57% и 7.11%**;\n",
    "* клиенты в браке находятся \"по середние\", но всё же лучше среднего по всей выборке: **7.55% против 8.12%**.\n",
    "\n",
    "Кредитному отделу следует с осторожностью относиться к клиентам, которые не состоят или не состояли в браке. Согласно данным такие клиенты менее ответственные. Получается, что узаконенные отношения ведут к более ответственному отношению к своим обязательствам - семейные люди более скрупулёзно берегут свой семейное спокойствие и несут за него ответственность. Однако самыми благонадёжными клиентами являются клиенты-одиночки. \n",
    "\n",
    "При группировки данных по `gender` наблюдается, что:\n",
    "* во всех категориях столбца `family_status` женщины чаще мужчин возвращают кредит в срок, при сравнении по всем данным на **3%** чаще;\n",
    "* самая большая разница в категории \"вдовец / вдова\": **5.75%** у женщин против **20%** у мужчин."
   ]
  },
  {
   "cell_type": "markdown",
   "id": "269509a4-9829-49ae-a668-8c47d873e8cd",
   "metadata": {},
   "source": [
    "### Есть ли зависимость между уровнем дохода и возвратом кредита в срок? <a class=\"anchor\" id=\"у_до\"></a>"
   ]
  },
  {
   "cell_type": "code",
   "execution_count": 36,
   "id": "35841149-7398-47b5-aff8-02771b60f408",
   "metadata": {},
   "outputs": [
    {
     "data": {
      "text/html": [
       "<div>\n",
       "<style scoped>\n",
       "    .dataframe tbody tr th:only-of-type {\n",
       "        vertical-align: middle;\n",
       "    }\n",
       "\n",
       "    .dataframe tbody tr th {\n",
       "        vertical-align: top;\n",
       "    }\n",
       "\n",
       "    .dataframe thead th {\n",
       "        text-align: right;\n",
       "    }\n",
       "</style>\n",
       "<table border=\"1\" class=\"dataframe\">\n",
       "  <thead>\n",
       "    <tr style=\"text-align: right;\">\n",
       "      <th></th>\n",
       "      <th>count</th>\n",
       "      <th>mean</th>\n",
       "      <th>percent_from_all</th>\n",
       "    </tr>\n",
       "    <tr>\n",
       "      <th>total_income_category</th>\n",
       "      <th></th>\n",
       "      <th></th>\n",
       "      <th></th>\n",
       "    </tr>\n",
       "  </thead>\n",
       "  <tbody>\n",
       "    <tr>\n",
       "      <th>1 очень низкий доход</th>\n",
       "      <td>3348</td>\n",
       "      <td>7.83%</td>\n",
       "      <td>15.61%</td>\n",
       "    </tr>\n",
       "    <tr>\n",
       "      <th>2 низкий доход</th>\n",
       "      <td>4981</td>\n",
       "      <td>8.43%</td>\n",
       "      <td>23.22%</td>\n",
       "    </tr>\n",
       "    <tr>\n",
       "      <th>3 средний доход</th>\n",
       "      <td>4405</td>\n",
       "      <td>8.88%</td>\n",
       "      <td>20.53%</td>\n",
       "    </tr>\n",
       "    <tr>\n",
       "      <th>4 высокий доход</th>\n",
       "      <td>4405</td>\n",
       "      <td>8.26%</td>\n",
       "      <td>20.53%</td>\n",
       "    </tr>\n",
       "    <tr>\n",
       "      <th>5 очень высокий доход</th>\n",
       "      <td>4315</td>\n",
       "      <td>7.05%</td>\n",
       "      <td>20.11%</td>\n",
       "    </tr>\n",
       "  </tbody>\n",
       "</table>\n",
       "</div>"
      ],
      "text/plain": [
       "                       count   mean percent_from_all\n",
       "total_income_category                               \n",
       "1 очень низкий доход    3348  7.83%           15.61%\n",
       "2 низкий доход          4981  8.43%           23.22%\n",
       "3 средний доход         4405  8.88%           20.53%\n",
       "4 высокий доход         4405  8.26%           20.53%\n",
       "5 очень высокий доход   4315  7.05%           20.11%"
      ]
     },
     "metadata": {},
     "output_type": "display_data"
    }
   ],
   "source": [
    "answer(data, 'total_income_category')"
   ]
  },
  {
   "cell_type": "markdown",
   "id": "bb473cdd-3d5b-479c-ac2b-4e45d4c9a368",
   "metadata": {},
   "source": [
    "**Вывод**\n",
    "\n",
    "Получен \"колокол\": клиенты с доходом от 130 001 до 160 000 чаще других допускают просрочки по кредиту: **8.88%**, а самые благонадеёжные клиенты с доходом свыше 214001: **7.05%**. Интересно, что клиенты с очень низким и низким доходом чаще клиентов со средним доходом возвращают кредиты в срок. Возможно это обусловлено более серъёзным подходом к тратам. При этом разброс от среднего значения **8.12%** меньше, чем в других группах, то есть можно сказать, что доход меньше других характеристик влияет на возврат кредитов в срок."
   ]
  },
  {
   "cell_type": "markdown",
   "id": "0390d8a9-c06f-4b6e-a1cd-70ab9e2fb4e7",
   "metadata": {},
   "source": [
    "###  Как разные цели кредита влияют на его возврат в срок? <a class=\"anchor\" id=\"ц_к\"></a>"
   ]
  },
  {
   "cell_type": "code",
   "execution_count": 37,
   "id": "93f2c79e-71bf-4dc6-b7fd-f504b23a7ff7",
   "metadata": {},
   "outputs": [
    {
     "data": {
      "text/html": [
       "<div>\n",
       "<style scoped>\n",
       "    .dataframe tbody tr th:only-of-type {\n",
       "        vertical-align: middle;\n",
       "    }\n",
       "\n",
       "    .dataframe tbody tr th {\n",
       "        vertical-align: top;\n",
       "    }\n",
       "\n",
       "    .dataframe thead th {\n",
       "        text-align: right;\n",
       "    }\n",
       "</style>\n",
       "<table border=\"1\" class=\"dataframe\">\n",
       "  <thead>\n",
       "    <tr style=\"text-align: right;\">\n",
       "      <th></th>\n",
       "      <th>count</th>\n",
       "      <th>mean</th>\n",
       "      <th>percent_from_all</th>\n",
       "    </tr>\n",
       "    <tr>\n",
       "      <th>purpose_category</th>\n",
       "      <th></th>\n",
       "      <th></th>\n",
       "      <th></th>\n",
       "    </tr>\n",
       "  </thead>\n",
       "  <tbody>\n",
       "    <tr>\n",
       "      <th>операции с автомобилем</th>\n",
       "      <td>4306</td>\n",
       "      <td>9.36%</td>\n",
       "      <td>20.07%</td>\n",
       "    </tr>\n",
       "    <tr>\n",
       "      <th>операции с недвижимостью</th>\n",
       "      <td>10811</td>\n",
       "      <td>7.23%</td>\n",
       "      <td>50.39%</td>\n",
       "    </tr>\n",
       "    <tr>\n",
       "      <th>получение образования</th>\n",
       "      <td>4013</td>\n",
       "      <td>9.22%</td>\n",
       "      <td>18.71%</td>\n",
       "    </tr>\n",
       "    <tr>\n",
       "      <th>проведение свадьбы</th>\n",
       "      <td>2324</td>\n",
       "      <td>8.00%</td>\n",
       "      <td>10.83%</td>\n",
       "    </tr>\n",
       "  </tbody>\n",
       "</table>\n",
       "</div>"
      ],
      "text/plain": [
       "                          count   mean percent_from_all\n",
       "purpose_category                                       \n",
       "операции с автомобилем     4306  9.36%           20.07%\n",
       "операции с недвижимостью  10811  7.23%           50.39%\n",
       "получение образования      4013  9.22%           18.71%\n",
       "проведение свадьбы         2324  8.00%           10.83%"
      ]
     },
     "metadata": {},
     "output_type": "display_data"
    }
   ],
   "source": [
    "answer(data, 'purpose_category')"
   ]
  },
  {
   "cell_type": "markdown",
   "id": "6f2fb669-aafe-4517-9712-eeb777628c87",
   "metadata": {},
   "source": [
    "**Вывод**\n",
    "\n",
    "* Лучше всех возвращают кредиты те заёмщики, которые взяли их для операций с недвижимостью: **7.23% просрчоек**\n",
    "* Хуже всех в этой категории выступают заёмщики, берущие кредиты на операции с автомобилем: **9.36% просрочек**."
   ]
  },
  {
   "cell_type": "markdown",
   "id": "607d8279-8ee3-4d85-8e18-6571213881c1",
   "metadata": {},
   "source": [
    "## Общий вывод <a class=\"anchor\" id=\"о_в\"></a>"
   ]
  },
  {
   "cell_type": "markdown",
   "id": "f8a6f21f-0101-4ada-8032-6d635e71b10c",
   "metadata": {},
   "source": [
    "**Зависимость между количеством детей и возвратом кредита в срок**\n",
    "\n",
    "*Краткий вывод: с ростом количества детей, возврастает вероятность просрочки.*\n",
    "\n",
    "Клиенты без детей имеют задолженности в **7.54%** случаев, наличие даже одного ребёнка резко повышает шансы до **9.17%**. С увеличением количества детей вероятность просрочки немного возрастает.\n",
    "\n",
    "**Зависимость между семейным положением и возвратом кредита в срок**\n",
    "\n",
    "*Краткий вывод: те, кто никогда не были в браке хуже отдают кредиты*\n",
    "\n",
    "Распределение по категориям:\n",
    "* хуже отдают кредиты клиенты со статусом \"гражданский брак\" и \"Не женат / не замужем\": **9.35%** и **9.75%**;\n",
    "* лучше \"вдовцы / вдовы\" и \"в разводе\": **6.57%** и **7.11%**;\n",
    "* \"в браке\" \"по середние\": **7.55%**.\n",
    "\n",
    "При анализе по полу получили:\n",
    "* во всех категориях столбца `family_status` женщины чаще мужчин возвращают кредит в срок, при сравнении по всем данным на **3%** чаще;\n",
    "* самая большая разница в категории \"вдовец / вдова\": **5.75%** против **20%**.\n",
    "\n",
    "**Зависимость между уровнем дохода и возвратом кредита в срок**\n",
    "\n",
    "*Краткий вывод: клиенты со средним доходом хуже возвращают кредиты. Доход меньше других характеристик влияет на возврат кредитов в срок*\n",
    "\n",
    "* клиенты с доходом от 130 001 до 160 000 чаще других допускают просрочки по кредиту: **8.88%**;\n",
    "* самые благонадеёжные клиенты с доходом свыше 214001: **7.05%** просрочек.\n",
    "* разброс от среднего значения **8.12%** в этой категории меньше, чем в других группах.\n",
    "\n",
    "**Влияение разных целей кредита на его возврат в срок**\n",
    "\n",
    "* лучше возвращают кредиты те заёмщики, которые взяли их для операций с недвижимостью: **7.23%** просрчоек;\n",
    "* хуже в этой категории выступают заёмщики, берущие кредиты на операции с автомобилем: **9.36%** просрочек.\n"
   ]
  },
  {
   "cell_type": "code",
   "execution_count": null,
   "id": "11f8bcd6-b5ff-456e-8ab0-60f72a0846b6",
   "metadata": {},
   "outputs": [],
   "source": []
  }
 ],
 "metadata": {
  "kernelspec": {
   "display_name": "Python 3 (ipykernel)",
   "language": "python",
   "name": "python3"
  },
  "language_info": {
   "codemirror_mode": {
    "name": "ipython",
    "version": 3
   },
   "file_extension": ".py",
   "mimetype": "text/x-python",
   "name": "python",
   "nbconvert_exporter": "python",
   "pygments_lexer": "ipython3",
   "version": "3.9.5"
  }
 },
 "nbformat": 4,
 "nbformat_minor": 5
}
